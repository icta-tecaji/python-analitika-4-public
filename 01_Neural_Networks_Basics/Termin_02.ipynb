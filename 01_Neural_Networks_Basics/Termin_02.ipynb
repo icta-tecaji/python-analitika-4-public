{
 "cells": [
  {
   "cell_type": "code",
   "execution_count": null,
   "id": "3ed5c1ca",
   "metadata": {},
   "outputs": [],
   "source": []
  },
  {
   "cell_type": "code",
   "execution_count": null,
   "id": "71c285f5",
   "metadata": {},
   "outputs": [],
   "source": []
  },
  {
   "cell_type": "code",
   "execution_count": null,
   "id": "523f1748",
   "metadata": {},
   "outputs": [],
   "source": []
  },
  {
   "cell_type": "markdown",
   "id": "5137063b",
   "metadata": {},
   "source": [
    "# L1 and L2 Regularization"
   ]
  },
  {
   "cell_type": "markdown",
   "id": "809193e1",
   "metadata": {},
   "source": [
    "**L2 Regularization penalty for weights**\n",
    "\n",
    "$\\Large L_{2w} = \\lambda \\sum_m w_m^2 $"
   ]
  },
  {
   "cell_type": "markdown",
   "id": "f050aca1",
   "metadata": {},
   "source": [
    "**L2 Regularization penalty for biases**\n",
    "\n",
    "$\\Large L_{2b} = \\lambda \\sum_n b_n^2 $"
   ]
  },
  {
   "cell_type": "markdown",
   "id": "047cd491",
   "metadata": {},
   "source": [
    "**L1 Regularization penalty for weights**\n",
    "\n",
    "$\\Large L_{1w} = \\lambda \\sum_m |w_m| $"
   ]
  },
  {
   "cell_type": "markdown",
   "id": "9ee9a5ba",
   "metadata": {},
   "source": [
    "**L1 Regularization penalty for biases**\n",
    "\n",
    "$\\Large L_{1b} = \\lambda \\sum_n |b_n| $"
   ]
  },
  {
   "cell_type": "markdown",
   "id": "7ca1bba8",
   "metadata": {},
   "source": [
    "$\\Large total\\_loss = loss + L_{1w} + L_{1b} + L_{2w} + L_{2b} $"
   ]
  },
  {
   "cell_type": "code",
   "execution_count": null,
   "id": "2f8746b0",
   "metadata": {},
   "outputs": [],
   "source": []
  },
  {
   "cell_type": "code",
   "execution_count": null,
   "id": "a37e4e9a",
   "metadata": {},
   "outputs": [],
   "source": []
  },
  {
   "cell_type": "code",
   "execution_count": null,
   "id": "32763b72",
   "metadata": {},
   "outputs": [],
   "source": []
  },
  {
   "cell_type": "code",
   "execution_count": null,
   "id": "3ca07c80",
   "metadata": {},
   "outputs": [],
   "source": []
  },
  {
   "cell_type": "code",
   "execution_count": null,
   "id": "2491cf98",
   "metadata": {},
   "outputs": [],
   "source": []
  },
  {
   "cell_type": "markdown",
   "id": "02cd7c26",
   "metadata": {},
   "source": [
    "---"
   ]
  },
  {
   "cell_type": "markdown",
   "id": "a4d28912",
   "metadata": {},
   "source": [
    "**L2 odvod uteži**\n",
    "\n",
    "$\\Large \\frac{\\partial L_{2w}}{\\partial w_m} = \\frac{\\partial }{\\partial w_m}( \\lambda \\sum_{m}w_m^2) = \\lambda \\frac{\\partial }{\\partial w_m}w_m^2 = \\lambda 2 w_m$"
   ]
  },
  {
   "cell_type": "markdown",
   "id": "b6280cbe",
   "metadata": {},
   "source": [
    "**L2 odvod bias**\n",
    "\n",
    "$\\Large \\frac{\\partial L_{2b}}{\\partial b_n} = \\frac{\\partial }{\\partial b_n}( \\lambda \\sum_{n}b_n^2) = \\lambda \\frac{\\partial }{\\partial b_n}b_n^2 = \\lambda 2 b_n$"
   ]
  },
  {
   "cell_type": "markdown",
   "id": "b3eb3fad",
   "metadata": {},
   "source": [
    "$\\Large \n",
    "|x| = \n",
    "\\left\\{\n",
    "\t\\begin{array}{ll}\n",
    "\t\tx  & x > 0 \\\\\n",
    "        -x  & x < 0\n",
    "\t\\end{array}\n",
    "\\right.\n",
    "$\n",
    "\n",
    "Odvod absolutne funkcije je:\n",
    "\n",
    "$\\Large \n",
    "|x|' = \n",
    "\\left\\{\n",
    "\t\\begin{array}{ll}\n",
    "\t\t1  & x > 0 \\\\\n",
    "        -1  & x < 0\n",
    "\t\\end{array}\n",
    "\\right.\n",
    "$"
   ]
  },
  {
   "cell_type": "markdown",
   "id": "dddb79f1",
   "metadata": {},
   "source": [
    "**L1 odvod uteži**\n",
    "\n",
    "$\\Large \\frac{\\partial L_{1w}}{\\partial w_m} = \\frac{\\partial }{\\partial w_m}( \\lambda \\sum_m {|w_m|}) = \\lambda \\frac{\\partial }{\\partial w_m} |w_m| = \\lambda \\left\\{\n",
    "\t\\begin{array}{ll}\n",
    "\t\t1  & w_m > 0 \\\\\n",
    "        -1  & w_m < 0\n",
    "\t\\end{array}\n",
    "\\right.$"
   ]
  },
  {
   "cell_type": "markdown",
   "id": "9ebabc6f",
   "metadata": {},
   "source": [
    "**L1 odvod bias**\n",
    "\n",
    "$\\Large \\frac{\\partial L_{1w}}{\\partial b_n} = \\frac{\\partial }{\\partial b_n}( \\lambda \\sum_n {|b_n|}) = \\lambda \\frac{\\partial }{\\partial b_n} |b_n| = \\lambda \\left\\{\n",
    "\t\\begin{array}{ll}\n",
    "\t\t1  & b_n > 0 \\\\\n",
    "        -1  & b_n < 0\n",
    "\t\\end{array}\n",
    "\\right.$"
   ]
  },
  {
   "cell_type": "code",
   "execution_count": null,
   "id": "95093e66",
   "metadata": {},
   "outputs": [],
   "source": []
  },
  {
   "cell_type": "code",
   "execution_count": null,
   "id": "d7ab4a15",
   "metadata": {},
   "outputs": [],
   "source": []
  },
  {
   "cell_type": "code",
   "execution_count": null,
   "id": "914b9298",
   "metadata": {},
   "outputs": [],
   "source": []
  },
  {
   "cell_type": "code",
   "execution_count": null,
   "id": "58d3c05c",
   "metadata": {},
   "outputs": [],
   "source": []
  },
  {
   "cell_type": "code",
   "execution_count": null,
   "id": "adaaa764",
   "metadata": {},
   "outputs": [],
   "source": []
  },
  {
   "cell_type": "code",
   "execution_count": null,
   "id": "01ffe792",
   "metadata": {},
   "outputs": [],
   "source": []
  },
  {
   "cell_type": "code",
   "execution_count": null,
   "id": "4ce9a357",
   "metadata": {},
   "outputs": [],
   "source": []
  },
  {
   "cell_type": "code",
   "execution_count": null,
   "id": "88e7e528",
   "metadata": {},
   "outputs": [],
   "source": []
  },
  {
   "cell_type": "markdown",
   "id": "68de12fd",
   "metadata": {},
   "source": [
    "---"
   ]
  },
  {
   "cell_type": "code",
   "execution_count": null,
   "id": "1edfc050",
   "metadata": {},
   "outputs": [],
   "source": []
  },
  {
   "cell_type": "code",
   "execution_count": null,
   "id": "c147f3db",
   "metadata": {},
   "outputs": [],
   "source": []
  },
  {
   "cell_type": "code",
   "execution_count": null,
   "id": "53102225",
   "metadata": {},
   "outputs": [],
   "source": []
  },
  {
   "cell_type": "code",
   "execution_count": null,
   "id": "2bd0f7d2",
   "metadata": {},
   "outputs": [],
   "source": []
  },
  {
   "cell_type": "code",
   "execution_count": null,
   "id": "0a78bd2e",
   "metadata": {},
   "outputs": [],
   "source": []
  },
  {
   "cell_type": "markdown",
   "id": "3a714e94",
   "metadata": {},
   "source": [
    "---"
   ]
  },
  {
   "cell_type": "markdown",
   "id": "331300a5",
   "metadata": {},
   "source": [
    "# Realni primer"
   ]
  },
  {
   "cell_type": "markdown",
   "id": "b70f622d",
   "metadata": {},
   "source": [
    "<a href=\"https://archive.ics.uci.edu/ml/datasets/iris\"><b>Iris Data Set</b></a>"
   ]
  },
  {
   "cell_type": "code",
   "execution_count": null,
   "id": "3b7c6756",
   "metadata": {},
   "outputs": [],
   "source": []
  },
  {
   "cell_type": "code",
   "execution_count": null,
   "id": "f598c37e",
   "metadata": {},
   "outputs": [],
   "source": []
  },
  {
   "cell_type": "code",
   "execution_count": null,
   "id": "a30e4f92",
   "metadata": {},
   "outputs": [],
   "source": []
  },
  {
   "cell_type": "code",
   "execution_count": null,
   "id": "d410d3c1",
   "metadata": {},
   "outputs": [],
   "source": []
  },
  {
   "cell_type": "code",
   "execution_count": null,
   "id": "e7dc05e4",
   "metadata": {},
   "outputs": [],
   "source": []
  },
  {
   "cell_type": "code",
   "execution_count": null,
   "id": "f0dfe970",
   "metadata": {},
   "outputs": [],
   "source": []
  },
  {
   "cell_type": "markdown",
   "id": "be55eb7e",
   "metadata": {},
   "source": [
    "---"
   ]
  },
  {
   "cell_type": "markdown",
   "id": "03868a1e",
   "metadata": {},
   "source": [
    "# Keras, Tensorflow"
   ]
  },
  {
   "cell_type": "code",
   "execution_count": null,
   "id": "0d55d26b",
   "metadata": {},
   "outputs": [],
   "source": []
  },
  {
   "cell_type": "code",
   "execution_count": null,
   "id": "a141712f",
   "metadata": {},
   "outputs": [],
   "source": []
  },
  {
   "cell_type": "code",
   "execution_count": null,
   "id": "1502237c",
   "metadata": {},
   "outputs": [],
   "source": []
  },
  {
   "cell_type": "markdown",
   "id": "1a4dd890",
   "metadata": {},
   "source": [
    "## Creating Neural Network Model\n"
   ]
  },
  {
   "cell_type": "code",
   "execution_count": null,
   "id": "de7d9372",
   "metadata": {},
   "outputs": [],
   "source": []
  },
  {
   "cell_type": "code",
   "execution_count": null,
   "id": "3ef62175",
   "metadata": {},
   "outputs": [],
   "source": []
  },
  {
   "cell_type": "markdown",
   "id": "a69ecbc4",
   "metadata": {},
   "source": [
    "## Training"
   ]
  },
  {
   "cell_type": "code",
   "execution_count": null,
   "id": "756eaf98",
   "metadata": {},
   "outputs": [],
   "source": []
  },
  {
   "cell_type": "code",
   "execution_count": null,
   "id": "49bd0c9c",
   "metadata": {},
   "outputs": [],
   "source": []
  },
  {
   "cell_type": "code",
   "execution_count": null,
   "id": "cd391c52",
   "metadata": {},
   "outputs": [],
   "source": []
  },
  {
   "cell_type": "code",
   "execution_count": null,
   "id": "70703231",
   "metadata": {},
   "outputs": [],
   "source": []
  },
  {
   "cell_type": "code",
   "execution_count": null,
   "id": "ff18c7b7",
   "metadata": {},
   "outputs": [],
   "source": []
  },
  {
   "cell_type": "code",
   "execution_count": null,
   "id": "d474f4ba",
   "metadata": {},
   "outputs": [],
   "source": []
  },
  {
   "cell_type": "code",
   "execution_count": null,
   "id": "0ba32517",
   "metadata": {},
   "outputs": [],
   "source": []
  },
  {
   "cell_type": "markdown",
   "id": "df3196d0",
   "metadata": {},
   "source": [
    "## Evaluating the model"
   ]
  },
  {
   "cell_type": "code",
   "execution_count": null,
   "id": "5e7e9c53",
   "metadata": {},
   "outputs": [],
   "source": []
  },
  {
   "cell_type": "code",
   "execution_count": null,
   "id": "eda9f203",
   "metadata": {},
   "outputs": [],
   "source": []
  },
  {
   "cell_type": "code",
   "execution_count": null,
   "id": "df5ca202",
   "metadata": {},
   "outputs": [],
   "source": []
  },
  {
   "cell_type": "markdown",
   "id": "2df0250b",
   "metadata": {},
   "source": [
    "## Making predictions"
   ]
  },
  {
   "cell_type": "code",
   "execution_count": null,
   "id": "b441b27f",
   "metadata": {},
   "outputs": [],
   "source": []
  },
  {
   "cell_type": "code",
   "execution_count": null,
   "id": "c9521228",
   "metadata": {},
   "outputs": [],
   "source": []
  },
  {
   "cell_type": "code",
   "execution_count": null,
   "id": "6e5e1e4d",
   "metadata": {},
   "outputs": [],
   "source": []
  },
  {
   "cell_type": "code",
   "execution_count": null,
   "id": "99d1cef1",
   "metadata": {},
   "outputs": [],
   "source": []
  },
  {
   "cell_type": "markdown",
   "id": "2d6e6374",
   "metadata": {},
   "source": [
    "# Save model"
   ]
  },
  {
   "cell_type": "code",
   "execution_count": null,
   "id": "587aedd2",
   "metadata": {},
   "outputs": [],
   "source": []
  },
  {
   "cell_type": "code",
   "execution_count": null,
   "id": "3995c75e",
   "metadata": {},
   "outputs": [],
   "source": []
  },
  {
   "cell_type": "code",
   "execution_count": null,
   "id": "a886cbdb",
   "metadata": {},
   "outputs": [],
   "source": []
  },
  {
   "cell_type": "code",
   "execution_count": null,
   "id": "834e4163",
   "metadata": {},
   "outputs": [],
   "source": []
  },
  {
   "cell_type": "code",
   "execution_count": null,
   "id": "375b06ae",
   "metadata": {},
   "outputs": [],
   "source": []
  },
  {
   "cell_type": "markdown",
   "id": "04117125",
   "metadata": {},
   "source": [
    "# Vaja"
   ]
  },
  {
   "cell_type": "markdown",
   "id": "b4e163ee",
   "metadata": {},
   "source": [
    "Ustvarite Dense model in ga uporabite na *Prima Indians onset of diabetes* datasetu. Naredite klasifikacijo ali je oseba dobila diabetes v roku 5 let ali ne."
   ]
  },
  {
   "cell_type": "markdown",
   "id": "2f046ad0",
   "metadata": {},
   "source": [
    "## Load data"
   ]
  },
  {
   "cell_type": "markdown",
   "id": "8afcaed5",
   "metadata": {},
   "source": [
    "*Prima Indians onset of diabetes dataset* opisuje zdravstvene podatke pacientov Prima Indians porekla in napoveduje ali so imeli diabetes v roku 5 let ali ne.\n",
    "\n",
    "Dataset je namenjen binarni klasifikaciji:\n",
    "* **1** - So dobili diabetes\n",
    "* **0** - Niso dobili diabetes\n",
    "\n"
   ]
  },
  {
   "cell_type": "code",
   "execution_count": null,
   "id": "9e70d433",
   "metadata": {},
   "outputs": [],
   "source": []
  },
  {
   "cell_type": "code",
   "execution_count": null,
   "id": "d726c22c",
   "metadata": {},
   "outputs": [],
   "source": []
  },
  {
   "cell_type": "code",
   "execution_count": null,
   "id": "f100a076",
   "metadata": {},
   "outputs": [],
   "source": []
  },
  {
   "cell_type": "code",
   "execution_count": null,
   "id": "355b996e",
   "metadata": {},
   "outputs": [],
   "source": []
  },
  {
   "cell_type": "code",
   "execution_count": null,
   "id": "d7ffa4dc",
   "metadata": {},
   "outputs": [],
   "source": []
  }
 ],
 "metadata": {
  "kernelspec": {
   "display_name": "Python 3 (ipykernel)",
   "language": "python",
   "name": "python3"
  },
  "language_info": {
   "codemirror_mode": {
    "name": "ipython",
    "version": 3
   },
   "file_extension": ".py",
   "mimetype": "text/x-python",
   "name": "python",
   "nbconvert_exporter": "python",
   "pygments_lexer": "ipython3",
   "version": "3.10.6"
  }
 },
 "nbformat": 4,
 "nbformat_minor": 5
}
