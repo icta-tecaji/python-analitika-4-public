{
 "cells": [
  {
   "cell_type": "code",
   "execution_count": null,
   "id": "b657b7a3",
   "metadata": {},
   "outputs": [],
   "source": []
  },
  {
   "cell_type": "markdown",
   "id": "d13b639f",
   "metadata": {},
   "source": [
    "# Ustvarimo lasten model in ga učimo na podatkih "
   ]
  },
  {
   "cell_type": "markdown",
   "id": "a95e4e77",
   "metadata": {},
   "source": [
    "## Problem formulation"
   ]
  },
  {
   "cell_type": "markdown",
   "id": "5b7abc09",
   "metadata": {},
   "source": [
    "# Data preperation"
   ]
  },
  {
   "cell_type": "code",
   "execution_count": 51,
   "id": "43ef9c76",
   "metadata": {},
   "outputs": [],
   "source": [
    "import pandas as pd\n",
    "import numpy as np"
   ]
  },
  {
   "cell_type": "code",
   "execution_count": 52,
   "id": "e04bf91b",
   "metadata": {},
   "outputs": [
    {
     "name": "stdout",
     "output_type": "stream",
     "text": [
      "<class 'pandas.core.frame.DataFrame'>\n",
      "RangeIndex: 3522 entries, 0 to 3521\n",
      "Data columns (total 4 columns):\n",
      " #   Column           Non-Null Count  Dtype         \n",
      "---  ------           --------------  -----         \n",
      " 0   patent_abstract  3522 non-null   object        \n",
      " 1   patent_date      3522 non-null   datetime64[ns]\n",
      " 2   patent_number    3522 non-null   object        \n",
      " 3   patent_title     3522 non-null   object        \n",
      "dtypes: datetime64[ns](1), object(3)\n",
      "memory usage: 110.2+ KB\n",
      "None\n"
     ]
    },
    {
     "data": {
      "text/html": [
       "<div>\n",
       "<style scoped>\n",
       "    .dataframe tbody tr th:only-of-type {\n",
       "        vertical-align: middle;\n",
       "    }\n",
       "\n",
       "    .dataframe tbody tr th {\n",
       "        vertical-align: top;\n",
       "    }\n",
       "\n",
       "    .dataframe thead th {\n",
       "        text-align: right;\n",
       "    }\n",
       "</style>\n",
       "<table border=\"1\" class=\"dataframe\">\n",
       "  <thead>\n",
       "    <tr style=\"text-align: right;\">\n",
       "      <th></th>\n",
       "      <th>patent_abstract</th>\n",
       "      <th>patent_date</th>\n",
       "      <th>patent_number</th>\n",
       "      <th>patent_title</th>\n",
       "    </tr>\n",
       "  </thead>\n",
       "  <tbody>\n",
       "    <tr>\n",
       "      <th>0</th>\n",
       "      <td>\" A \"\"Barometer\"\" Neuron enhances stability in...</td>\n",
       "      <td>1996-07-09</td>\n",
       "      <td>5535303</td>\n",
       "      <td>\"\"\"Barometer\"\" neuron for a neural network\"</td>\n",
       "    </tr>\n",
       "    <tr>\n",
       "      <th>1</th>\n",
       "      <td>\" This invention is a novel high-speed neural ...</td>\n",
       "      <td>1993-10-19</td>\n",
       "      <td>5255349</td>\n",
       "      <td>\"Electronic neural network for solving \"\"trave...</td>\n",
       "    </tr>\n",
       "    <tr>\n",
       "      <th>2</th>\n",
       "      <td>An optical information processor for use as a ...</td>\n",
       "      <td>1995-01-17</td>\n",
       "      <td>5383042</td>\n",
       "      <td>3 layer liquid crystal neural network with out...</td>\n",
       "    </tr>\n",
       "    <tr>\n",
       "      <th>3</th>\n",
       "      <td>A method and system for intelligent control of...</td>\n",
       "      <td>2001-01-02</td>\n",
       "      <td>6169981</td>\n",
       "      <td>3-brain architecture for an intelligent decisi...</td>\n",
       "    </tr>\n",
       "    <tr>\n",
       "      <th>4</th>\n",
       "      <td>A method and system for intelligent control of...</td>\n",
       "      <td>2003-06-17</td>\n",
       "      <td>6581048</td>\n",
       "      <td>3-brain architecture for an intelligent decisi...</td>\n",
       "    </tr>\n",
       "  </tbody>\n",
       "</table>\n",
       "</div>"
      ],
      "text/plain": [
       "                                     patent_abstract patent_date  \\\n",
       "0  \" A \"\"Barometer\"\" Neuron enhances stability in...  1996-07-09   \n",
       "1  \" This invention is a novel high-speed neural ...  1993-10-19   \n",
       "2  An optical information processor for use as a ...  1995-01-17   \n",
       "3  A method and system for intelligent control of...  2001-01-02   \n",
       "4  A method and system for intelligent control of...  2003-06-17   \n",
       "\n",
       "  patent_number                                       patent_title  \n",
       "0       5535303        \"\"\"Barometer\"\" neuron for a neural network\"  \n",
       "1       5255349  \"Electronic neural network for solving \"\"trave...  \n",
       "2       5383042  3 layer liquid crystal neural network with out...  \n",
       "3       6169981  3-brain architecture for an intelligent decisi...  \n",
       "4       6581048  3-brain architecture for an intelligent decisi...  "
      ]
     },
     "execution_count": 52,
     "metadata": {},
     "output_type": "execute_result"
    }
   ],
   "source": [
    "data = pd.read_csv(\"./data/neural_network_patent_query.csv\", parse_dates=['patent_date']).dropna(subset = ['patent_abstract'])\n",
    "print(data.info())\n",
    "data.head()"
   ]
  },
  {
   "cell_type": "code",
   "execution_count": 53,
   "id": "4ff4a54a",
   "metadata": {
    "scrolled": true
   },
   "outputs": [],
   "source": [
    "from keras.preprocessing.text import Tokenizer"
   ]
  },
  {
   "cell_type": "code",
   "execution_count": 56,
   "id": "41aa168f",
   "metadata": {},
   "outputs": [],
   "source": [
    "from keras.preprocessing.text import Tokenizer\n",
    "\n",
    "def preprocess_data(abstracts):\n",
    "    abstracts = abstracts.str.replace(r'(?<=[^\\s0-9])(?=[.,;?])', r' ', regex=True)\n",
    "    abstracts = abstracts.str.replace(r'\\((\\d+)\\)', r'', regex=True)\n",
    "    abstracts = abstracts.str.replace(r'\\s\\s', ' ', regex=True)\n",
    "    \n",
    "    lower=False\n",
    "    filters='!\"%;[\\\\]^_`{|}~\\t\\n'\n",
    "    # Create the tokenizer object and train on texts\n",
    "    tokenizer = Tokenizer(lower=lower, \n",
    "                          filters=filters, \n",
    "                          split=\" \")\n",
    "    tokenizer.fit_on_texts(abstracts.values)\n",
    "    \n",
    "    return abstracts, tokenizer"
   ]
  },
  {
   "cell_type": "code",
   "execution_count": 57,
   "id": "b6a2d93f",
   "metadata": {},
   "outputs": [
    {
     "name": "stdout",
     "output_type": "stream",
     "text": [
      "There are 16192 unique words.\n"
     ]
    }
   ],
   "source": [
    "abstracts, tokenizer = preprocess_data(data[\"patent_abstract\"])\n",
    "\n",
    "# Create look-up dictionaries and reverse look-ups\n",
    "word_idx = tokenizer.word_index\n",
    "idx_word = tokenizer.index_word\n",
    "num_words = len(word_idx) + 1\n",
    "word_counts = tokenizer.word_counts\n",
    "\n",
    "print(f'There are {num_words} unique words.')"
   ]
  },
  {
   "cell_type": "code",
   "execution_count": 58,
   "id": "85e251fe",
   "metadata": {
    "scrolled": false
   },
   "outputs": [
    {
     "name": "stdout",
     "output_type": "stream",
     "text": [
      "1 the\n",
      "2 a\n",
      "3 of\n",
      "4 .\n",
      "5 ,\n",
      "6 and\n",
      "7 to\n",
      "8 network\n",
      "9 neural\n",
      "10 is\n"
     ]
    }
   ],
   "source": [
    "for i, word in idx_word.items():\n",
    "    if i > 10:\n",
    "        break\n",
    "    print(i, word)"
   ]
  },
  {
   "cell_type": "code",
   "execution_count": 59,
   "id": "86946803",
   "metadata": {},
   "outputs": [],
   "source": [
    "def create_sequences(abstracts, tokenizer):\n",
    "    # Convert text to sequences of integers\n",
    "    sequences = tokenizer.texts_to_sequences(abstracts.values)\n",
    "    \n",
    "    return sequences[0]"
   ]
  },
  {
   "cell_type": "code",
   "execution_count": 60,
   "id": "e677c64c",
   "metadata": {
    "scrolled": true
   },
   "outputs": [
    {
     "name": "stdout",
     "output_type": "stream",
     "text": [
      "[18, 6149, 3599, 3136, 2003, 12, 2, 426, 683, 1311, 28, 5, 154, 54, 27, 2, 9984, 20, 5, 2976, 102, 9985, 7, 193, 1425, 780, 12, 2, 9986, 1935, 1537, 4, 13, 6149, 3599, 213, 27, 2, 9987, 23, 224, 20, 118, 28, 9988, 2, 5259, 4208, 6, 1425, 7, 2, 1018, 337, 27, 2, 4685, 3600, 3, 4208, 6, 1425, 25, 84, 2, 9989, 225, 3, 3358, 4, 13, 6149, 3599, 2337, 7, 1, 1311, 90, 5, 1289, 283, 90, 1093, 1, 225, 3, 3358, 3, 1, 4685, 472, 5, 6, 203, 2, 519, 1312, 23, 3358, 22, 30, 7, 1, 1311, 25, 1578, 1, 1311, 7, 2, 169, 53, 35, 23, 1217, 7479, 173, 1, 224, 225, 3, 3358, 3, 1, 4685, 472, 4]\n"
     ]
    }
   ],
   "source": [
    "print(create_sequences(abstracts, tokenizer))"
   ]
  },
  {
   "cell_type": "code",
   "execution_count": 61,
   "id": "538bf991",
   "metadata": {},
   "outputs": [
    {
     "data": {
      "text/plain": [
       "'A Barometer Neuron enhances stability in a Neural Network System that , when used as a track-while-scan system , assigns sensor plots to predicted track positions in a plot/track association situation . The Barometer Neuron functions as a bench-mark or reference system node that equates a superimposed plot and track to a zero distance as a perfect pairing of plot and track which has a measured/desired level of inhibition . The Barometer Neuron responds to the System inputs , compares these inputs against the level of inhibition of the perfect pair , and generates a supplied excitation or inhibition output signal to the System which adjusts the System to a desired value at or near 1.0 this the reference level of inhibition of the perfect pair .'"
      ]
     },
     "execution_count": 61,
     "metadata": {},
     "output_type": "execute_result"
    }
   ],
   "source": [
    "\" \".join(tokenizer.index_word[i] for i in create_sequences(abstracts, tokenizer))"
   ]
  },
  {
   "cell_type": "markdown",
   "id": "023c4cc5",
   "metadata": {},
   "source": [
    "## Features and Labels"
   ]
  },
  {
   "cell_type": "code",
   "execution_count": 62,
   "id": "67bd88af",
   "metadata": {},
   "outputs": [],
   "source": [
    "# vvvvv     HERE     vvvvv\n",
    "from sklearn.utils import shuffle\n",
    "\n",
    "def create_features_labels(abstracts, tokenizer, training_length):\n",
    "    # ^^^^^     HERE     ^^^^^\n",
    "    \n",
    "    # Convert text to sequences of integers\n",
    "    sequences = tokenizer.texts_to_sequences(abstracts.values)\n",
    "    \n",
    "    # vvvvv     HERE     vvvvv\n",
    "\n",
    "    # Limit to sequences with more than training length tokens   \n",
    "    sequences_filtered = [x for x in sequences if len(x) > (training_length + 1)]\n",
    "\n",
    "    features = []\n",
    "    labels = []\n",
    "\n",
    "    # Iterate through the sequences of tokens\n",
    "    for seq in sequences_filtered:\n",
    "\n",
    "        # Create multiple training examples from each sequence\n",
    "        for i in range(training_length, len(seq)):\n",
    "            # Extract the features and label\n",
    "            extract = seq[i - training_length: i + 1]\n",
    "\n",
    "            # Set the features and label\n",
    "            features.append(extract[:-1])\n",
    "            labels.append(extract[-1])\n",
    "\n",
    "    print(f'There are {len(features)} sequences.')\n",
    "    \n",
    "    # Randomly shuffle features and labels\n",
    "    features, labels = shuffle(features, labels, random_state=2000)\n",
    "    # ^^^^^     HERE     ^^^^^"
   ]
  },
  {
   "cell_type": "code",
   "execution_count": 63,
   "id": "c6563e11",
   "metadata": {},
   "outputs": [
    {
     "name": "stdout",
     "output_type": "stream",
     "text": [
      "There are 320713 sequences.\n"
     ]
    }
   ],
   "source": [
    "training_length = 50\n",
    "create_features_labels(abstracts, tokenizer, training_length)"
   ]
  },
  {
   "cell_type": "code",
   "execution_count": 64,
   "id": "d73a4d2a",
   "metadata": {},
   "outputs": [],
   "source": [
    "from sklearn.utils import shuffle\n",
    "# vvvvv     HERE     vvvvv\n",
    "import numpy as np\n",
    "\n",
    "def create_train_valid_sets(abstracts, tokenizer, training_length, train_fraction, num_words):\n",
    "    # ^^^^^     HERE     ^^^^^\n",
    "    \n",
    "    # Convert text to sequences of integers\n",
    "    sequences = tokenizer.texts_to_sequences(abstracts.values)\n",
    "\n",
    "    # Limit to sequences with more than training length tokens   \n",
    "    sequences_filtered = [x for x in sequences if len(x) > (training_length + 20)]\n",
    "\n",
    "    features = []\n",
    "    labels = []\n",
    "\n",
    "    # Iterate through the sequences of tokens\n",
    "    for seq in sequences_filtered:\n",
    "\n",
    "        # Create multiple training examples from each sequence\n",
    "        for i in range(training_length, len(seq)):\n",
    "            # Extract the features and label\n",
    "            extract = seq[i - training_length: i + 1]\n",
    "\n",
    "            # Set the features and label\n",
    "            features.append(extract[:-1])\n",
    "            labels.append(extract[-1])\n",
    "\n",
    "    print(f'There are {len(features)} sequences.')\n",
    "    \n",
    "    # Randomly shuffle features and labels\n",
    "    features, labels = shuffle(features, labels, random_state=2000)\n",
    "\n",
    "    # vvvvv     HERE     vvvvv\n",
    "    # Decide on number of samples for training\n",
    "    train_end = int(train_fraction * len(labels))\n",
    "    X_train = np.array(features[:train_end]) \n",
    "    X_valid = np.array(features[train_end:])\n",
    "    \n",
    "    # Empty array to hold labels\n",
    "    label_array = np.zeros((len(labels), num_words), dtype=np.int8) # use int8 to save memory!\n",
    "\n",
    "    # One hot encode the labels\n",
    "    for example_index, word_index in enumerate(labels):\n",
    "        label_array[example_index, word_index] = 1\n",
    "\n",
    "    labels = label_array\n",
    "    # TO find the word\n",
    "    tokenizer.index_word[np.argmax(labels[0])]\n",
    "    \n",
    "    y_train = np.array(labels[:train_end])\n",
    "    y_valid = np.array(labels[train_end:])\n",
    "    \n",
    "    return X_train, X_valid, y_train, y_valid\n",
    "    # ^^^^^     HERE     ^^^^^"
   ]
  },
  {
   "cell_type": "code",
   "execution_count": 65,
   "id": "d1235a12",
   "metadata": {},
   "outputs": [
    {
     "name": "stdout",
     "output_type": "stream",
     "text": [
      "There are 318563 sequences.\n"
     ]
    }
   ],
   "source": [
    "training_length=50\n",
    "train_fraction = 0.7\n",
    "\n",
    "X_train, X_valid, y_train, y_valid = create_train_valid_sets(abstracts, tokenizer, training_length, train_fraction, num_words)"
   ]
  },
  {
   "cell_type": "code",
   "execution_count": 66,
   "id": "5f215fcd",
   "metadata": {},
   "outputs": [
    {
     "name": "stdout",
     "output_type": "stream",
     "text": [
      "Features: based , at least in part , upon the health status of the welder , welder data , an expert data store , a local service support data store , a remote expert data store and/or a remote service support data store . The expert component can employ various artificial\n",
      "\n",
      "Label: intelligence\n",
      "\n"
     ]
    }
   ],
   "source": [
    "seq_id = 0\n",
    "sequence = X_train[seq_id]\n",
    "text = []\n",
    "for idx in sequence:\n",
    "    text.append(idx_word[idx])\n",
    "        \n",
    "print('Features: ' + ' '.join(text) + '\\n')\n",
    "print('Label: ' + idx_word[np.argmax(y_train[seq_id])] + '\\n')    "
   ]
  },
  {
   "cell_type": "markdown",
   "id": "936f047e",
   "metadata": {},
   "source": [
    "# Creating a model"
   ]
  },
  {
   "cell_type": "code",
   "execution_count": 67,
   "id": "a7535610",
   "metadata": {},
   "outputs": [],
   "source": [
    "from keras.models import Sequential\n",
    "from keras.layers import LSTM, Dense, Dropout, Masking, Embedding"
   ]
  },
  {
   "cell_type": "code",
   "execution_count": 68,
   "id": "d59e26fe",
   "metadata": {},
   "outputs": [
    {
     "name": "stdout",
     "output_type": "stream",
     "text": [
      "Model: \"sequential_1\"\n",
      "_________________________________________________________________\n",
      " Layer (type)                Output Shape              Param #   \n",
      "=================================================================\n",
      " embedding_1 (Embedding)     (None, 50, 100)           1619200   \n",
      "                                                                 \n",
      " lstm_1 (LSTM)               (None, 64)                42240     \n",
      "                                                                 \n",
      " dense_2 (Dense)             (None, 64)                4160      \n",
      "                                                                 \n",
      " dropout_1 (Dropout)         (None, 64)                0         \n",
      "                                                                 \n",
      " dense_3 (Dense)             (None, 16192)             1052480   \n",
      "                                                                 \n",
      "=================================================================\n",
      "Total params: 2,718,080\n",
      "Trainable params: 1,098,880\n",
      "Non-trainable params: 1,619,200\n",
      "_________________________________________________________________\n"
     ]
    }
   ],
   "source": [
    "model = Sequential()\n",
    "\n",
    "# Embedding layer\n",
    "model.add(\n",
    "    Embedding(input_dim=num_words,\n",
    "              input_length = training_length,\n",
    "              output_dim=100,\n",
    "              trainable=False))\n",
    "\n",
    "# Recurrent layer\n",
    "model.add(LSTM(64, return_sequences=False, \n",
    "               dropout=0.1, recurrent_dropout=0.1))\n",
    "\n",
    "# Fully connected layer\n",
    "model.add(Dense(64, activation='relu'))\n",
    "\n",
    "# Dropout for regularization\n",
    "model.add(Dropout(0.5))\n",
    "\n",
    "# Output layer\n",
    "model.add(Dense(num_words, activation='softmax'))\n",
    "\n",
    "# Compile the model\n",
    "model.compile(\n",
    "    optimizer='adam', loss='categorical_crossentropy', metrics=['accuracy'])\n",
    "\n",
    "model.summary()"
   ]
  },
  {
   "cell_type": "code",
   "execution_count": 69,
   "id": "5053a817",
   "metadata": {},
   "outputs": [
    {
     "name": "stdout",
     "output_type": "stream",
     "text": [
      "Epoch 1/3\n",
      "10/10 [==============================] - 2s 42ms/step - loss: 9.6885 - accuracy: 0.0267\n",
      "Epoch 2/3\n",
      "10/10 [==============================] - 0s 45ms/step - loss: 9.6560 - accuracy: 0.0733\n",
      "Epoch 3/3\n",
      "10/10 [==============================] - 0s 44ms/step - loss: 9.1997 - accuracy: 0.0600\n"
     ]
    }
   ],
   "source": [
    "history = model.fit(X_train[:300],  y_train[:300],\n",
    "                    verbose=1,\n",
    "                    epochs=3,\n",
    "                    )"
   ]
  },
  {
   "cell_type": "markdown",
   "id": "0be6a4fc",
   "metadata": {},
   "source": [
    "---"
   ]
  },
  {
   "cell_type": "markdown",
   "id": "071d65f0",
   "metadata": {},
   "source": [
    "## Pre-trained Embeddings"
   ]
  },
  {
   "cell_type": "markdown",
   "id": "0b9e2e21",
   "metadata": {},
   "source": [
    "GloVe - http://nlp.stanford.edu/data/glove.6B.zip (822MB)\n",
    "* glove.6B.100d.txt je velik 348MB"
   ]
  },
  {
   "cell_type": "markdown",
   "id": "cd8f6d7c",
   "metadata": {},
   "source": [
    "```python\n",
    "import numpy as np\n",
    "\n",
    "# Load in embeddings\n",
    "glove_vectors = './models/glove.6B.100d.txt'\n",
    "glove = np.loadtxt(glove_vectors, dtype='str', comments=None)\n",
    "\n",
    "# Extract the vectors and words\n",
    "vectors = glove[:, 1:].astype('float')\n",
    "words = glove[:, 0]\n",
    "\n",
    "# Create lookup of words to vectors\n",
    "word_lookup = {word: vector for word, vector in zip(words, vectors)}\n",
    "\n",
    "# New matrix to hold word embeddings\n",
    "embedding_matrix = np.zeros((num_words, vectors.shape[1]))\n",
    "\n",
    "for i, word in enumerate(word_idx.keys()):\n",
    "    # Look up the word embedding\n",
    "    vector = word_lookup.get(word, None)\n",
    "\n",
    "    # Record in matrix\n",
    "    if vector is not None:\n",
    "        embedding_matrix[i + 1, :] = vector\n",
    "        \n",
    "# Look a word up\n",
    "word_lookup[\"neural\"][:10]\n",
    "        \n",
    "#...\n",
    "model.add(\n",
    "    Embedding(input_dim=num_words,\n",
    "              input_length = training_length,\n",
    "              output_dim=100,\n",
    "              weights=[embedding_matrix],\n",
    "              trainable=False,\n",
    "              mask_zero=True))\n",
    "\n",
    "# Masking layer for pre-trained embeddings\n",
    "model.add(Masking(mask_value=0.0))\n",
    "#...\n",
    "```"
   ]
  },
  {
   "cell_type": "code",
   "execution_count": 70,
   "id": "7f543947",
   "metadata": {},
   "outputs": [],
   "source": [
    "from keras.models import load_model"
   ]
  },
  {
   "cell_type": "code",
   "execution_count": 71,
   "id": "9cbe2b20",
   "metadata": {},
   "outputs": [
    {
     "name": "stdout",
     "output_type": "stream",
     "text": [
      "Model: \"sequential_2\"\n",
      "_________________________________________________________________\n",
      " Layer (type)                Output Shape              Param #   \n",
      "=================================================================\n",
      " embedding_2 (Embedding)     (None, None, 100)         1619200   \n",
      "                                                                 \n",
      " lstm_2 (LSTM)               (None, 64)                42240     \n",
      "                                                                 \n",
      " dense_3 (Dense)             (None, 128)               8320      \n",
      "                                                                 \n",
      " dropout_2 (Dropout)         (None, 128)               0         \n",
      "                                                                 \n",
      " dense_4 (Dense)             (None, 16192)             2088768   \n",
      "                                                                 \n",
      "=================================================================\n",
      "Total params: 3,758,528\n",
      "Trainable params: 3,758,528\n",
      "Non-trainable params: 0\n",
      "_________________________________________________________________\n"
     ]
    }
   ],
   "source": [
    "model = load_model('./models/train-embeddings-rnn.h5')\n",
    "model.summary()"
   ]
  },
  {
   "cell_type": "code",
   "execution_count": 72,
   "id": "bde2763e",
   "metadata": {},
   "outputs": [
    {
     "name": "stdout",
     "output_type": "stream",
     "text": [
      "\n",
      "Model Performance: Log Loss and Accuracy on validation data\n",
      "313/313 [==============================] - 4s 13ms/step - loss: 3.8490 - accuracy: 0.3106\n"
     ]
    },
    {
     "data": {
      "text/plain": [
       "[3.8489832878112793, 0.31060001254081726]"
      ]
     },
     "execution_count": 72,
     "metadata": {},
     "output_type": "execute_result"
    }
   ],
   "source": [
    "print('\\nModel Performance: Log Loss and Accuracy on validation data')\n",
    "model.evaluate(X_valid[:10_000], y_valid[:10_000])"
   ]
  },
  {
   "cell_type": "code",
   "execution_count": 73,
   "id": "ad17a08a",
   "metadata": {},
   "outputs": [
    {
     "name": "stdout",
     "output_type": "stream",
     "text": [
      "Features: based , at least in part , upon the health status of the welder , welder data , an expert data store , a local service support data store , a remote expert data store and/or a remote service support data store . The expert component can employ various artificial\n",
      "\n",
      "1/1 [==============================] - 0s 255ms/step\n",
      "Next word:  neural\n"
     ]
    }
   ],
   "source": [
    "seq_id = 0\n",
    "sequence = X_train[seq_id]\n",
    "text = []\n",
    "\n",
    "for idx in sequence:\n",
    "    text.append(idx_word[idx])\n",
    "        \n",
    "print('Features: ' + ' '.join(text) + '\\n')\n",
    "\n",
    "# Make prediction\n",
    "prediction = model.predict(np.reshape(sequence, newshape=(1,-1)))[0]\n",
    "\n",
    "# Prediction to text\n",
    "print(\"Next word: \", idx_word[np.argmax(prediction)])"
   ]
  },
  {
   "cell_type": "code",
   "execution_count": 75,
   "id": "cda23eed",
   "metadata": {},
   "outputs": [
    {
     "name": "stdout",
     "output_type": "stream",
     "text": [
      "1/1 [==============================] - 0s 26ms/step\n",
      "1/1 [==============================] - 0s 22ms/step\n",
      "1/1 [==============================] - 0s 21ms/step\n",
      "1/1 [==============================] - 0s 21ms/step\n",
      "1/1 [==============================] - 0s 25ms/step\n",
      "1/1 [==============================] - 0s 24ms/step\n",
      "1/1 [==============================] - 0s 21ms/step\n",
      "1/1 [==============================] - 0s 22ms/step\n",
      "1/1 [==============================] - 0s 21ms/step\n",
      "1/1 [==============================] - 0s 22ms/step\n",
      "1/1 [==============================] - 0s 23ms/step\n",
      "1/1 [==============================] - 0s 21ms/step\n",
      "1/1 [==============================] - 0s 20ms/step\n",
      "1/1 [==============================] - 0s 21ms/step\n",
      "1/1 [==============================] - 0s 21ms/step\n",
      "1/1 [==============================] - 0s 21ms/step\n",
      "1/1 [==============================] - 0s 21ms/step\n",
      "1/1 [==============================] - 0s 20ms/step\n",
      "1/1 [==============================] - 0s 23ms/step\n",
      "1/1 [==============================] - 0s 21ms/step\n",
      "1/1 [==============================] - 0s 20ms/step\n",
      "1/1 [==============================] - 0s 19ms/step\n",
      "1/1 [==============================] - 0s 20ms/step\n",
      "1/1 [==============================] - 0s 20ms/step\n",
      "1/1 [==============================] - 0s 22ms/step\n",
      "1/1 [==============================] - 0s 20ms/step\n",
      "1/1 [==============================] - 0s 22ms/step\n",
      "1/1 [==============================] - 0s 21ms/step\n",
      "1/1 [==============================] - 0s 21ms/step\n",
      "1/1 [==============================] - 0s 22ms/step\n",
      "wafer using the reticle and determining a transfer of at least one of said plurality of pattern features from said reticle to said wafer . Preferably , a neural network is trained using the determination . Preferably , a reticle is inspected by running detected defects through the neural network   =>  . The system is used to determine the querying device . The neural network is trained to determine the system . The system is used to train the neural network\n",
      "\n"
     ]
    }
   ],
   "source": [
    "from collections import deque\n",
    "\n",
    "seq_id = 10\n",
    "sequence = deque(X_train[seq_id], maxlen=X_train[0].shape[0])\n",
    "text = []\n",
    "\n",
    "for idx in sequence:\n",
    "    text.append(idx_word[idx])\n",
    "text.append(\"  => \")        \n",
    "\n",
    "text_length = 30\n",
    "for _ in range(text_length):\n",
    "    # Make prediction\n",
    "    prediction = model.predict(np.reshape(sequence, newshape=(1,-1)),)[0]\n",
    "\n",
    "    # Choose new word\n",
    "    word_id = np.argmax(prediction)\n",
    "    \n",
    "    # Prediction to text\n",
    "    new_word = idx_word[word_id]\n",
    "    text.append(new_word)\n",
    "    \n",
    "    # Update sequence\n",
    "    sequence.append(word_id)\n",
    "\n",
    "\n",
    "print(' '.join(text) + '\\n')\n"
   ]
  },
  {
   "cell_type": "code",
   "execution_count": 78,
   "id": "2617aa56",
   "metadata": {},
   "outputs": [
    {
     "data": {
      "text/plain": [
       "<AxesSubplot: >"
      ]
     },
     "execution_count": 78,
     "metadata": {},
     "output_type": "execute_result"
    },
    {
     "data": {
      "image/png": "[encoded data removed]",
      "text/plain": [
       "<Figure size 640x480 with 1 Axes>"
      ]
     },
     "metadata": {},
     "output_type": "display_data"
    }
   ],
   "source": [
    "my_preds = [0.5, 0.1, 0.2, 0.2]\n",
    "my_words = [\"Hello\", \"World\", \"Python\", \"AI\"]\n",
    "\n",
    "my_res = np.random.choice(my_words, size=10_000, p=my_preds)\n",
    "pd.Series(my_res).value_counts().plot(kind='bar')"
   ]
  },
  {
   "cell_type": "code",
   "execution_count": 79,
   "id": "0e07372d",
   "metadata": {},
   "outputs": [
    {
     "name": "stdout",
     "output_type": "stream",
     "text": [
      "1/1 [==============================] - 0s 24ms/step\n",
      "1/1 [==============================] - 0s 21ms/step\n",
      "1/1 [==============================] - 0s 19ms/step\n",
      "1/1 [==============================] - 0s 24ms/step\n",
      "1/1 [==============================] - 0s 20ms/step\n",
      "1/1 [==============================] - 0s 21ms/step\n",
      "1/1 [==============================] - 0s 21ms/step\n",
      "1/1 [==============================] - 0s 23ms/step\n",
      "1/1 [==============================] - 0s 22ms/step\n",
      "1/1 [==============================] - 0s 21ms/step\n",
      "1/1 [==============================] - 0s 21ms/step\n",
      "1/1 [==============================] - 0s 21ms/step\n",
      "1/1 [==============================] - 0s 21ms/step\n",
      "1/1 [==============================] - 0s 20ms/step\n",
      "1/1 [==============================] - 0s 22ms/step\n",
      "1/1 [==============================] - 0s 25ms/step\n",
      "1/1 [==============================] - 0s 22ms/step\n",
      "1/1 [==============================] - 0s 21ms/step\n",
      "1/1 [==============================] - 0s 21ms/step\n",
      "1/1 [==============================] - 0s 20ms/step\n",
      "1/1 [==============================] - 0s 22ms/step\n",
      "1/1 [==============================] - 0s 19ms/step\n",
      "1/1 [==============================] - 0s 23ms/step\n",
      "1/1 [==============================] - 0s 21ms/step\n",
      "1/1 [==============================] - 0s 23ms/step\n",
      "wafer using the reticle and determining a transfer of at least one of said plurality of pattern features from said reticle to said wafer . Preferably , a neural network is trained using the determination . Preferably , a reticle is inspected by running detected defects through the neural network   =>  to each input region which can be based which can be segmented in a variety of sticky , olefins , such , dopamine neurotrophic tomography\n",
      "\n"
     ]
    }
   ],
   "source": [
    "from collections import deque\n",
    "\n",
    "seq_id = 10\n",
    "sequence = deque(X_train[seq_id], maxlen=X_train[0].shape[0])\n",
    "text = []\n",
    "\n",
    "for idx in sequence:\n",
    "    text.append(idx_word[idx])\n",
    "text.append(\"  => \")        \n",
    "\n",
    "text_length = 25\n",
    "for _ in range(text_length):\n",
    "    # Make prediction\n",
    "    prediction = model.predict(np.reshape(sequence, newshape=(1,-1)),)[0]\n",
    "\n",
    "    # Choose new word\n",
    "    word_value = np.random.choice(prediction, p=prediction)\n",
    "    word_id = np.where(prediction == word_value)[0][0]\n",
    "    \n",
    "    # Prediction to text\n",
    "    new_word = idx_word[word_id]\n",
    "    text.append(new_word)\n",
    "    \n",
    "    # Update sequence\n",
    "    sequence.append(word_id)\n",
    "\n",
    "\n",
    "print(' '.join(text) + '\\n')\n"
   ]
  },
  {
   "cell_type": "code",
   "execution_count": 80,
   "id": "a476d75b",
   "metadata": {
    "scrolled": false
   },
   "outputs": [
    {
     "name": "stdout",
     "output_type": "stream",
     "text": [
      "1/1 [==============================] - 0s 196ms/step\n",
      "1/1 [==============================] - 0s 187ms/step\n",
      "1/1 [==============================] - 0s 21ms/step\n",
      "1/1 [==============================] - 0s 22ms/step\n",
      "1/1 [==============================] - 0s 22ms/step\n",
      "1/1 [==============================] - 0s 22ms/step\n",
      "1/1 [==============================] - 0s 21ms/step\n",
      "1/1 [==============================] - 0s 21ms/step\n",
      "1/1 [==============================] - 0s 21ms/step\n",
      "1/1 [==============================] - 0s 21ms/step\n",
      "1/1 [==============================] - 0s 23ms/step\n",
      "1/1 [==============================] - 0s 26ms/step\n",
      "1/1 [==============================] - 0s 26ms/step\n",
      "1/1 [==============================] - 0s 25ms/step\n",
      "1/1 [==============================] - 0s 21ms/step\n",
      "1/1 [==============================] - 0s 23ms/step\n",
      "1/1 [==============================] - 0s 21ms/step\n",
      "1/1 [==============================] - 0s 20ms/step\n",
      "1/1 [==============================] - 0s 23ms/step\n",
      "1/1 [==============================] - 0s 23ms/step\n",
      "1/1 [==============================] - 0s 23ms/step\n",
      "1/1 [==============================] - 0s 23ms/step\n",
      "1/1 [==============================] - 0s 21ms/step\n",
      "1/1 [==============================] - 0s 21ms/step\n",
      "1/1 [==============================] - 0s 21ms/step\n",
      "This patent provides a way of using neural-network as task management system   =>  on a Host application . The preferred embodiment is used to simulate usage information prior to molecules beyond an enhanced image and vision , head\n",
      "\n"
     ]
    }
   ],
   "source": [
    "from collections import deque\n",
    "\n",
    "prompt = \"This patent provides a way of using neural-network as task management system\"\n",
    "tokenized_seq = tokenizer.texts_to_sequences([prompt])\n",
    "sequence = deque(tokenized_seq[0], maxlen=50)\n",
    "text = []\n",
    "\n",
    "for idx in sequence:\n",
    "    text.append(idx_word[idx])\n",
    "text.append(\"  => \")    \n",
    "\n",
    "text_length = 25\n",
    "for _ in range(text_length):\n",
    "    # Make prediction\n",
    "    prediction = model.predict(np.reshape(sequence, newshape=(1,-1)),)[0]\n",
    "\n",
    "    # Choose new word\n",
    "    word_value = np.random.choice(prediction, p=prediction)\n",
    "    word_id = np.where(prediction == word_value)[0][0]\n",
    "    \n",
    "    # Prediction to text\n",
    "    new_word = idx_word[word_id]\n",
    "    text.append(new_word)\n",
    "    \n",
    "    # Update sequence\n",
    "    sequence.append(word_id)\n",
    "\n",
    "\n",
    "print(' '.join(text) + '\\n')\n"
   ]
  },
  {
   "cell_type": "markdown",
   "id": "fb0e5cc9",
   "metadata": {},
   "source": [
    "---"
   ]
  },
  {
   "cell_type": "markdown",
   "id": "58e54e17",
   "metadata": {},
   "source": [
    "# ChatGPT"
   ]
  },
  {
   "cell_type": "code",
   "execution_count": 86,
   "id": "adce6424",
   "metadata": {},
   "outputs": [],
   "source": [
    "import openai"
   ]
  },
  {
   "cell_type": "code",
   "execution_count": 87,
   "id": "b77405f1",
   "metadata": {},
   "outputs": [],
   "source": [
    "# load and set our key\n",
    "openai.api_key = open(\"../../openai_API.txt\", \"r\").read().strip(\"\\n\")"
   ]
  },
  {
   "cell_type": "markdown",
   "id": "03b8c179",
   "metadata": {},
   "source": [
    "Cenik je trenutno:\n",
    "* GPT-3.5 - $0.002 / 1K tokens\n",
    "\n",
    "https://openai.com/pricing"
   ]
  },
  {
   "cell_type": "code",
   "execution_count": 88,
   "id": "a30f6d25",
   "metadata": {},
   "outputs": [],
   "source": [
    "completion = openai.ChatCompletion.create(\n",
    "  model=\"gpt-3.5-turbo\", # this is \"ChatGPT\" $0.002 per 1k tokens\n",
    "  messages=[{\"role\": \"user\", \"content\": \"What is the circumference in km of the planet Earth?\"}]\n",
    ")"
   ]
  },
  {
   "cell_type": "code",
   "execution_count": 89,
   "id": "e6180798",
   "metadata": {},
   "outputs": [
    {
     "data": {
      "text/plain": [
       "<OpenAIObject chat.completion id=chatcmpl-74Tn7rOxKqfUpWxPpxf2xG4z2hiFP at 0x28633c620c0> JSON: {\n",
       "  \"choices\": [\n",
       "    {\n",
       "      \"finish_reason\": \"stop\",\n",
       "      \"index\": 0,\n",
       "      \"message\": {\n",
       "        \"content\": \"The circumference of the Earth is approximately 40,075 km.\",\n",
       "        \"role\": \"assistant\"\n",
       "      }\n",
       "    }\n",
       "  ],\n",
       "  \"created\": 1681302185,\n",
       "  \"id\": \"chatcmpl-74Tn7rOxKqfUpWxPpxf2xG4z2hiFP\",\n",
       "  \"model\": \"gpt-3.5-turbo-0301\",\n",
       "  \"object\": \"chat.completion\",\n",
       "  \"usage\": {\n",
       "    \"completion_tokens\": 13,\n",
       "    \"prompt_tokens\": 19,\n",
       "    \"total_tokens\": 32\n",
       "  }\n",
       "}"
      ]
     },
     "execution_count": 89,
     "metadata": {},
     "output_type": "execute_result"
    }
   ],
   "source": [
    "completion"
   ]
  },
  {
   "cell_type": "code",
   "execution_count": 90,
   "id": "6437af67",
   "metadata": {},
   "outputs": [
    {
     "name": "stdout",
     "output_type": "stream",
     "text": [
      "The circumference of the Earth is approximately 40,075 km.\n"
     ]
    }
   ],
   "source": [
    "reply_content = completion.choices[0].message.content\n",
    "print(reply_content)"
   ]
  },
  {
   "cell_type": "code",
   "execution_count": 104,
   "id": "dca30483",
   "metadata": {},
   "outputs": [
    {
     "data": {
      "text/plain": [
       "<OpenAIObject chat.completion id=chatcmpl-74UEyknDTUj46fraDX5O0fm9PtqIo at 0x28633c54f90> JSON: {\n",
       "  \"choices\": [\n",
       "    {\n",
       "      \"finish_reason\": \"stop\",\n",
       "      \"index\": 0,\n",
       "      \"message\": {\n",
       "        \"content\": \"to increase efficiency and productivity in various industries - including but not limited to healthcare, logistics, and manufacturing. By using machine learning algorithms, the system adapts to changing circumstances and assigns tasks to the most suitable individuals, providing real-time monitoring and tracking capabilities. This system can help businesses optimize their workflows, reduce errors and delays, and ultimately improve their bottom line.\",\n",
       "        \"role\": \"assistant\"\n",
       "      }\n",
       "    }\n",
       "  ],\n",
       "  \"created\": 1681303912,\n",
       "  \"id\": \"chatcmpl-74UEyknDTUj46fraDX5O0fm9PtqIo\",\n",
       "  \"model\": \"gpt-3.5-turbo-0301\",\n",
       "  \"object\": \"chat.completion\",\n",
       "  \"usage\": {\n",
       "    \"completion_tokens\": 72,\n",
       "    \"prompt_tokens\": 42,\n",
       "    \"total_tokens\": 114\n",
       "  }\n",
       "}"
      ]
     },
     "execution_count": 104,
     "metadata": {},
     "output_type": "execute_result"
    }
   ],
   "source": [
    "completion = openai.ChatCompletion.create(\n",
    "  model=\"gpt-3.5-turbo\", # this is \"ChatGPT\" $0.002 per 1k tokens\n",
    "  messages=[\n",
    "      {\"role\": \"system\", \"content\": \"You are writting a patent. It must contain maximum of 100 words.\"},\n",
    "      {\"role\": \"user\", \"content\": \"This patent provides a way of using neural-network as task management system\"}]\n",
    ")\n",
    "\n",
    "completion"
   ]
  },
  {
   "cell_type": "code",
   "execution_count": 105,
   "id": "d7f0926d",
   "metadata": {},
   "outputs": [
    {
     "name": "stdout",
     "output_type": "stream",
     "text": [
      "to increase efficiency and productivity in various industries - including but not limited to healthcare, logistics, and manufacturing. By using machine learning algorithms, the system adapts to changing circumstances and assigns tasks to the most suitable individuals, providing real-time monitoring and tracking capabilities. This system can help businesses optimize their workflows, reduce errors and delays, and ultimately improve their bottom line.\n"
     ]
    }
   ],
   "source": [
    "reply_content = completion.choices[0].message.content\n",
    "print(reply_content)"
   ]
  },
  {
   "cell_type": "markdown",
   "id": "e5df971a",
   "metadata": {},
   "source": [
    "---"
   ]
  },
  {
   "cell_type": "code",
   "execution_count": 96,
   "id": "cd46690a",
   "metadata": {},
   "outputs": [
    {
     "name": "stdout",
     "output_type": "stream",
     "text": [
      "> What is circumeference of Earth?\n",
      "User's input was:  What is circumeference of Earth?\n"
     ]
    },
    {
     "data": {
      "text/plain": [
       "[{'role': 'user', 'content': 'What is circumeference of Earth?'}]"
      ]
     },
     "execution_count": 96,
     "metadata": {},
     "output_type": "execute_result"
    }
   ],
   "source": [
    "message_history = []\n",
    "# What is the moon's circumference in km?\n",
    "user_input = input(\"> \")\n",
    "print(\"User's input was: \", user_input)\n",
    "\n",
    "message_history.append({\"role\": \"user\", \"content\": f\"{user_input}\"})\n",
    "message_history"
   ]
  },
  {
   "cell_type": "code",
   "execution_count": 97,
   "id": "5727ca87",
   "metadata": {},
   "outputs": [
    {
     "name": "stdout",
     "output_type": "stream",
     "text": [
      "The circumference of Earth is approximately 40,075 km (24,901 mi).\n"
     ]
    }
   ],
   "source": [
    "completion = openai.ChatCompletion.create(\n",
    "  model=\"gpt-3.5-turbo\",\n",
    "  messages=message_history\n",
    ")\n",
    "\n",
    "# Now we can print the response:\n",
    "reply_content = completion.choices[0].message.content\n",
    "print(reply_content)"
   ]
  },
  {
   "cell_type": "code",
   "execution_count": 98,
   "id": "585d8d5f",
   "metadata": {},
   "outputs": [
    {
     "data": {
      "text/plain": [
       "[{'role': 'user', 'content': 'What is circumeference of Earth?'},\n",
       " {'role': 'assistant',\n",
       "  'content': 'The circumference of Earth is approximately 40,075 km (24,901 mi).'}]"
      ]
     },
     "execution_count": 98,
     "metadata": {},
     "output_type": "execute_result"
    }
   ],
   "source": [
    "# note the use of the \"assistant\" role here. This is because we're feeding the model's response into context.\n",
    "message_history.append({\"role\": \"assistant\", \"content\": f\"{reply_content}\"})\n",
    "message_history"
   ]
  },
  {
   "cell_type": "code",
   "execution_count": 99,
   "id": "7b1198f2",
   "metadata": {},
   "outputs": [
    {
     "name": "stdout",
     "output_type": "stream",
     "text": [
      "> which moon is that in reference to?\n",
      "User's input was:  which moon is that in reference to?\n",
      "\n",
      "I apologize for the error in my previous response. The circumference of Earth is not in reference to any moon. Earth is the planet that has a circumference of approximately 40,075 km (24,901 mi).\n"
     ]
    }
   ],
   "source": [
    "# which moon is that in reference to?\n",
    "user_input = input(\"> \")\n",
    "print(\"User's input was: \", user_input)\n",
    "print()\n",
    "message_history.append({\"role\": \"user\", \"content\": f\"{user_input}\"})\n",
    "\n",
    "completion = openai.ChatCompletion.create(\n",
    "    model=\"gpt-3.5-turbo\",\n",
    "    messages=message_history\n",
    ")\n",
    "\n",
    "reply_content = completion.choices[0].message.content\n",
    "print(reply_content)"
   ]
  },
  {
   "cell_type": "code",
   "execution_count": 101,
   "id": "194589fb",
   "metadata": {},
   "outputs": [
    {
     "name": "stdout",
     "output_type": "stream",
     "text": [
      "> Can I drink the water from a dehumidifier?\n",
      "User's input was:  Can I drink the water from a dehumidifier?\n",
      "No, it is not safe to drink water from a dehumidifier. The water collected by a dehumidifier is not potable and can contain impurities, bacteria, and other harmful substances. It is recommended to dispose of this water properly and not use it for any purpose other than draining or cleaning the dehumidifier.\n",
      "\n",
      "> Can I drink the water from a dehumidifier?\n",
      "User's input was:  Can I drink the water from a dehumidifier?\n",
      "As an AI language model, I'm an AI digital assistant and I do not have a personal opinion. However, I can inform you that it is not safe to drink the water from a dehumidifier. Although the water may appear clean, it can contain impurities, bacteria, and other harmful substances that can cause health problems. It is advisable to dispose of this water properly and not use it for any purpose other than draining or cleaning the dehumidifier. If you need drinking water, it is best to get it from a safe and reliable source such as a water filter or a public water system.\n",
      "\n"
     ]
    }
   ],
   "source": [
    "message_history = []\n",
    "\n",
    "def chat(inp, role=\"user\"):\n",
    "    message_history.append({\"role\": role, \"content\": f\"{inp}\"})\n",
    "    completion = openai.ChatCompletion.create(\n",
    "        model=\"gpt-3.5-turbo\",\n",
    "        messages=message_history\n",
    "    )\n",
    "    reply_content = completion.choices[0].message.content\n",
    "    message_history.append({\"role\": \"assistant\", \"content\": f\"{reply_content}\"})\n",
    "    return reply_content\n",
    "\n",
    "for i in range(2):\n",
    "    user_input = input(\"> \")\n",
    "    print(\"User's input was: \", user_input)\n",
    "    print(chat(user_input))\n",
    "    print()"
   ]
  },
  {
   "cell_type": "markdown",
   "id": "a4d2bca8",
   "metadata": {},
   "source": [
    "---"
   ]
  },
  {
   "cell_type": "markdown",
   "id": "9bd86404",
   "metadata": {},
   "source": [
    "---"
   ]
  },
  {
   "cell_type": "code",
   "execution_count": null,
   "id": "3400fc40",
   "metadata": {},
   "outputs": [],
   "source": []
  },
  {
   "cell_type": "code",
   "execution_count": null,
   "id": "0c0ce8fd",
   "metadata": {},
   "outputs": [],
   "source": []
  },
  {
   "cell_type": "code",
   "execution_count": null,
   "id": "b4c98283",
   "metadata": {},
   "outputs": [],
   "source": []
  },
  {
   "cell_type": "code",
   "execution_count": null,
   "id": "47b9157b",
   "metadata": {},
   "outputs": [],
   "source": []
  }
 ],
 "metadata": {
  "kernelspec": {
   "display_name": "Python 3 (ipykernel)",
   "language": "python",
   "name": "python3"
  },
  "language_info": {
   "codemirror_mode": {
    "name": "ipython",
    "version": 3
   },
   "file_extension": ".py",
   "mimetype": "text/x-python",
   "name": "python",
   "nbconvert_exporter": "python",
   "pygments_lexer": "ipython3",
   "version": "3.10.8"
  }
 },
 "nbformat": 4,
 "nbformat_minor": 5
}
