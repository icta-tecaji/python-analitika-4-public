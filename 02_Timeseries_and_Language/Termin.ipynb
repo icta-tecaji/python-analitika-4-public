{
 "cells": [
  {
   "cell_type": "code",
   "execution_count": null,
   "id": "f34960c9",
   "metadata": {},
   "outputs": [],
   "source": []
  },
  {
   "cell_type": "markdown",
   "id": "784c2b04",
   "metadata": {},
   "source": [
    "---"
   ]
  },
  {
   "cell_type": "markdown",
   "id": "06e30528",
   "metadata": {},
   "source": [
    "<div>\n",
    "    \n",
    "[Timeseries](#Timeseries)\n",
    "* [Različni tipi Deep Learning modelov](#Različni-tipi-Deep-Learning-modelov)\n",
    "    \n",
    "[Realni primer](#Realni-primer)\n",
    "* [Data exploration](#Data-exploration)\n",
    "* [Feature engineering and data splitting](#Feature-engineering-and-data-splitting)\n",
    "    * [Encoding time](#Encoding-time)\n",
    "\n",
    "[Data windowing](#Data-windowing)\n",
    "* [Shape of timeseries data for deep learning](#Shape-of-timeseries-data-for-deep-learning)\n",
    "* [Implementing the DataWindow class](#Implementing-the-DataWindow-class)\n",
    "\n",
    "[Baseline models](#Baseline-models)\n",
    "* [Single step baseline model](#Single-step-baseline-model)\n",
    "* [Multi step baseline models](#Multi-step-baseline-models)\n",
    "    * [Predicting using last known value](#Predicting-using-last-known-value)\n",
    "    * [Predicting using whole input sequence](#Predicting-using-whole-input-sequence)\n",
    "* [Multi output baseline model](#Multi-output-baseline-model)\n",
    "    \n",
    "[Deep Learning](#Deep-Learning)\n",
    "* [Single Step DNN model](#Single-Step-DNN-model)\n",
    "* [Multi-Step DNN model](#Multi-Step-DNN-model)\n",
    "* [Multi-Output DNN model](#Multi-Output-DNN-model)\n",
    "    \n",
    "[Remembering the past](#Remembering-the-past)\n",
    "* [Recurrent Neural Network (RNN)](#Recurrent-Neural-Network-(RNN))\n",
    "* [Long Short-Term Memory](#Long-Short-Term-Memory)\n",
    "    * [Forget gate](#Forget-gate)\n",
    "    * [Input gate](#Input-gate)\n",
    "    * [Output gate](#Output-gate)\n",
    "* [Single-Step LSTM](#Single-Step-LSTM)\n",
    "* [Multi-Step LSTM](#Multi-Step-LSTM)\n",
    "* [Multi-Output LSTM](#Multi-Output-LSTM)\n",
    "</div>"
   ]
  },
  {
   "cell_type": "markdown",
   "id": "1262e76a",
   "metadata": {},
   "source": [
    "# Timeseries"
   ]
  },
  {
   "cell_type": "markdown",
   "id": "8cf4b909",
   "metadata": {},
   "source": [
    "## Različni tipi Deep Learning modelov"
   ]
  },
  {
   "cell_type": "markdown",
   "id": "ad88cdb2",
   "metadata": {},
   "source": [
    "**Single-step model**"
   ]
  },
  {
   "cell_type": "markdown",
   "id": "8225ed92",
   "metadata": {},
   "source": [
    "![single_step](images/01_single_step_model.png)"
   ]
  },
  {
   "cell_type": "markdown",
   "id": "afe65c9f",
   "metadata": {},
   "source": [
    "**Multi-step model**"
   ]
  },
  {
   "cell_type": "markdown",
   "id": "92718c42",
   "metadata": {},
   "source": [
    "![02_multi_step_model](images/02_multi_step.png)"
   ]
  },
  {
   "cell_type": "markdown",
   "id": "0f17aa07",
   "metadata": {},
   "source": [
    "**Multi-output model**"
   ]
  },
  {
   "cell_type": "markdown",
   "id": "d35c30ed",
   "metadata": {},
   "source": [
    "![multi_output](images/03_multi_output.png)"
   ]
  },
  {
   "cell_type": "markdown",
   "id": "73ebc0e0",
   "metadata": {},
   "source": [
    "---"
   ]
  },
  {
   "cell_type": "markdown",
   "id": "675a5340",
   "metadata": {},
   "source": [
    "# Realni primer"
   ]
  },
  {
   "cell_type": "markdown",
   "id": "0a65976a",
   "metadata": {},
   "source": [
    "## Data exploration"
   ]
  },
  {
   "cell_type": "code",
   "execution_count": null,
   "id": "a03652d6",
   "metadata": {},
   "outputs": [],
   "source": []
  },
  {
   "cell_type": "code",
   "execution_count": null,
   "id": "5e7d3ebf",
   "metadata": {},
   "outputs": [],
   "source": []
  },
  {
   "cell_type": "code",
   "execution_count": null,
   "id": "67b8fa60",
   "metadata": {},
   "outputs": [],
   "source": []
  },
  {
   "cell_type": "markdown",
   "id": "9bc90a7e",
   "metadata": {},
   "source": [
    "| Feature        | Description |\n",
    "|----------------|-------------|\n",
    "| date_time      | Date and time of the data, recorded in the CST time zone. The format is YYYY-MM-DD HH:MM:SS. |\n",
    "| temp           | Average temperature recorded in the hour, expressed in Kelvin.                               |\n",
    "| rain_1h        | Amount of rain that occurred in the hour, expressed in millimeters.                          |\n",
    "| snow_1h        | Amount of snow that occurred in the hour, expressed in millimeters.                          |\n",
    "| clouds_all     | Percentage of cloud cover during the hour.                                                   |\n",
    "| traffic_volume | Volume of traffic reported westbound on I-94 during the hour.                                |\n"
   ]
  },
  {
   "cell_type": "code",
   "execution_count": null,
   "id": "75b36444",
   "metadata": {},
   "outputs": [],
   "source": []
  },
  {
   "cell_type": "code",
   "execution_count": null,
   "id": "7adb0da7",
   "metadata": {},
   "outputs": [],
   "source": []
  },
  {
   "cell_type": "code",
   "execution_count": null,
   "id": "a5b8aca0",
   "metadata": {},
   "outputs": [],
   "source": []
  },
  {
   "cell_type": "markdown",
   "id": "fa3a675d",
   "metadata": {},
   "source": [
    "## Feature engineering and data splitting"
   ]
  },
  {
   "cell_type": "code",
   "execution_count": null,
   "id": "36823745",
   "metadata": {},
   "outputs": [],
   "source": []
  },
  {
   "cell_type": "code",
   "execution_count": null,
   "id": "6755be8a",
   "metadata": {},
   "outputs": [],
   "source": []
  },
  {
   "cell_type": "code",
   "execution_count": null,
   "id": "35226ac3",
   "metadata": {},
   "outputs": [],
   "source": []
  },
  {
   "cell_type": "markdown",
   "id": "c2e2f3d5",
   "metadata": {},
   "source": [
    "### Encoding time"
   ]
  },
  {
   "cell_type": "code",
   "execution_count": null,
   "id": "a96f87cb",
   "metadata": {},
   "outputs": [],
   "source": []
  },
  {
   "cell_type": "code",
   "execution_count": null,
   "id": "52f17135",
   "metadata": {},
   "outputs": [],
   "source": []
  },
  {
   "cell_type": "code",
   "execution_count": null,
   "id": "04fd7653",
   "metadata": {},
   "outputs": [],
   "source": []
  },
  {
   "cell_type": "code",
   "execution_count": null,
   "id": "a652522d",
   "metadata": {},
   "outputs": [],
   "source": []
  },
  {
   "cell_type": "code",
   "execution_count": null,
   "id": "bcca208c",
   "metadata": {},
   "outputs": [],
   "source": []
  },
  {
   "cell_type": "code",
   "execution_count": null,
   "id": "02c17701",
   "metadata": {},
   "outputs": [],
   "source": []
  },
  {
   "cell_type": "markdown",
   "id": "01ed24e0",
   "metadata": {},
   "source": [
    "----"
   ]
  },
  {
   "cell_type": "markdown",
   "id": "3a42df25",
   "metadata": {},
   "source": [
    "# Data windowing"
   ]
  },
  {
   "cell_type": "markdown",
   "id": "1788c121",
   "metadata": {},
   "source": [
    "## Shape of timeseries data for deep learning"
   ]
  },
  {
   "cell_type": "markdown",
   "id": "94d80093",
   "metadata": {},
   "source": [
    "![fig_13_1](images/04_figure13_1.png)"
   ]
  },
  {
   "cell_type": "markdown",
   "id": "417c8eef",
   "metadata": {},
   "source": [
    "![fig_13_2](images/05_13_2.png)"
   ]
  },
  {
   "cell_type": "markdown",
   "id": "86ffb703",
   "metadata": {},
   "source": [
    "---"
   ]
  },
  {
   "cell_type": "markdown",
   "id": "ecfb6e20",
   "metadata": {},
   "source": [
    "![13_03](images/06_fig_13_3.png)"
   ]
  },
  {
   "cell_type": "markdown",
   "id": "ea31fd7d",
   "metadata": {},
   "source": [
    "![13_4](images/07_13_04.png)"
   ]
  },
  {
   "cell_type": "markdown",
   "id": "ce04f985",
   "metadata": {},
   "source": [
    "![fig_13_05](images/08_fig_13_5.png)"
   ]
  },
  {
   "cell_type": "markdown",
   "id": "f6d6903e",
   "metadata": {},
   "source": [
    "## Implementing the DataWindow class"
   ]
  },
  {
   "cell_type": "code",
   "execution_count": null,
   "id": "1e268c06",
   "metadata": {},
   "outputs": [],
   "source": []
  },
  {
   "cell_type": "code",
   "execution_count": null,
   "id": "e0c54bd5",
   "metadata": {},
   "outputs": [],
   "source": []
  },
  {
   "cell_type": "code",
   "execution_count": null,
   "id": "4a6bfc3d",
   "metadata": {},
   "outputs": [],
   "source": []
  },
  {
   "cell_type": "markdown",
   "id": "c5367624",
   "metadata": {},
   "source": [
    "![window_splitg](images/09_window_split.png)"
   ]
  },
  {
   "cell_type": "code",
   "execution_count": null,
   "id": "c5fd2149",
   "metadata": {},
   "outputs": [],
   "source": []
  },
  {
   "cell_type": "code",
   "execution_count": null,
   "id": "528d1740",
   "metadata": {},
   "outputs": [],
   "source": []
  },
  {
   "cell_type": "code",
   "execution_count": null,
   "id": "01466bae",
   "metadata": {},
   "outputs": [],
   "source": []
  },
  {
   "cell_type": "code",
   "execution_count": null,
   "id": "b56027e2",
   "metadata": {},
   "outputs": [],
   "source": []
  },
  {
   "cell_type": "code",
   "execution_count": null,
   "id": "afd07c6a",
   "metadata": {},
   "outputs": [],
   "source": []
  },
  {
   "cell_type": "markdown",
   "id": "fb377dbf",
   "metadata": {},
   "source": [
    "---"
   ]
  },
  {
   "cell_type": "markdown",
   "id": "59a3c24f",
   "metadata": {},
   "source": [
    "# Baseline models"
   ]
  },
  {
   "cell_type": "markdown",
   "id": "3a1c5b23",
   "metadata": {},
   "source": [
    "## Single-step baseline model"
   ]
  },
  {
   "cell_type": "code",
   "execution_count": null,
   "id": "af5c0988",
   "metadata": {},
   "outputs": [],
   "source": []
  },
  {
   "cell_type": "code",
   "execution_count": null,
   "id": "2eca317c",
   "metadata": {},
   "outputs": [],
   "source": []
  },
  {
   "cell_type": "code",
   "execution_count": null,
   "id": "d323d9e2",
   "metadata": {},
   "outputs": [],
   "source": []
  },
  {
   "cell_type": "markdown",
   "id": "ba5f37d6",
   "metadata": {},
   "source": [
    "---"
   ]
  },
  {
   "cell_type": "code",
   "execution_count": null,
   "id": "d2b485fc",
   "metadata": {},
   "outputs": [],
   "source": []
  },
  {
   "cell_type": "code",
   "execution_count": null,
   "id": "5ef6f704",
   "metadata": {},
   "outputs": [],
   "source": []
  },
  {
   "cell_type": "code",
   "execution_count": null,
   "id": "56683a09",
   "metadata": {},
   "outputs": [],
   "source": []
  },
  {
   "cell_type": "code",
   "execution_count": null,
   "id": "9e36e2db",
   "metadata": {},
   "outputs": [],
   "source": []
  },
  {
   "cell_type": "code",
   "execution_count": null,
   "id": "649fc15f",
   "metadata": {},
   "outputs": [],
   "source": []
  },
  {
   "cell_type": "markdown",
   "id": "c393d2f8",
   "metadata": {},
   "source": [
    "---"
   ]
  },
  {
   "cell_type": "code",
   "execution_count": null,
   "id": "12f186f6",
   "metadata": {},
   "outputs": [],
   "source": []
  },
  {
   "cell_type": "code",
   "execution_count": null,
   "id": "a028b223",
   "metadata": {},
   "outputs": [],
   "source": []
  },
  {
   "cell_type": "code",
   "execution_count": null,
   "id": "4ee99bc7",
   "metadata": {},
   "outputs": [],
   "source": []
  },
  {
   "cell_type": "code",
   "execution_count": null,
   "id": "013ddd38",
   "metadata": {},
   "outputs": [],
   "source": []
  },
  {
   "cell_type": "markdown",
   "id": "8f243e6c",
   "metadata": {},
   "source": [
    "## Multi-step baseline models"
   ]
  },
  {
   "cell_type": "markdown",
   "id": "1187016a",
   "metadata": {},
   "source": [
    "### Predicting using last known value"
   ]
  },
  {
   "cell_type": "code",
   "execution_count": null,
   "id": "27d06bb9",
   "metadata": {},
   "outputs": [],
   "source": []
  },
  {
   "cell_type": "code",
   "execution_count": null,
   "id": "23b2e168",
   "metadata": {},
   "outputs": [],
   "source": []
  },
  {
   "cell_type": "code",
   "execution_count": null,
   "id": "b9861cce",
   "metadata": {},
   "outputs": [],
   "source": []
  },
  {
   "cell_type": "code",
   "execution_count": null,
   "id": "1a1ba30b",
   "metadata": {},
   "outputs": [],
   "source": []
  },
  {
   "cell_type": "code",
   "execution_count": null,
   "id": "e99125ee",
   "metadata": {},
   "outputs": [],
   "source": []
  },
  {
   "cell_type": "markdown",
   "id": "cd8a5dcc",
   "metadata": {},
   "source": [
    "----"
   ]
  },
  {
   "cell_type": "markdown",
   "id": "e1718a03",
   "metadata": {},
   "source": [
    "### Predicting using whole input sequence"
   ]
  },
  {
   "cell_type": "code",
   "execution_count": null,
   "id": "2791ef37",
   "metadata": {},
   "outputs": [],
   "source": []
  },
  {
   "cell_type": "code",
   "execution_count": null,
   "id": "04770869",
   "metadata": {},
   "outputs": [],
   "source": []
  },
  {
   "cell_type": "code",
   "execution_count": null,
   "id": "0c8bb140",
   "metadata": {},
   "outputs": [],
   "source": []
  },
  {
   "cell_type": "code",
   "execution_count": null,
   "id": "7d52c263",
   "metadata": {},
   "outputs": [],
   "source": []
  },
  {
   "cell_type": "markdown",
   "id": "9e821d52",
   "metadata": {},
   "source": [
    "---"
   ]
  },
  {
   "cell_type": "markdown",
   "id": "940d0e49",
   "metadata": {},
   "source": [
    "## Multi-output baseline model"
   ]
  },
  {
   "cell_type": "code",
   "execution_count": null,
   "id": "be018a3a",
   "metadata": {},
   "outputs": [],
   "source": []
  },
  {
   "cell_type": "code",
   "execution_count": null,
   "id": "b0079cc1",
   "metadata": {},
   "outputs": [],
   "source": []
  },
  {
   "cell_type": "code",
   "execution_count": null,
   "id": "1b1919ae",
   "metadata": {},
   "outputs": [],
   "source": []
  },
  {
   "cell_type": "code",
   "execution_count": null,
   "id": "45d74593",
   "metadata": {},
   "outputs": [],
   "source": []
  },
  {
   "cell_type": "markdown",
   "id": "ab6c898e",
   "metadata": {},
   "source": [
    "----"
   ]
  },
  {
   "cell_type": "markdown",
   "id": "ab965ae4",
   "metadata": {},
   "source": [
    "# Deep Learning"
   ]
  },
  {
   "cell_type": "code",
   "execution_count": null,
   "id": "f38fc00c",
   "metadata": {},
   "outputs": [],
   "source": []
  },
  {
   "cell_type": "code",
   "execution_count": null,
   "id": "ae8ae9e5",
   "metadata": {},
   "outputs": [],
   "source": []
  },
  {
   "cell_type": "code",
   "execution_count": null,
   "id": "7cfedc07",
   "metadata": {},
   "outputs": [],
   "source": []
  },
  {
   "cell_type": "markdown",
   "id": "48483e0a",
   "metadata": {},
   "source": [
    "## Single-Step DNN model"
   ]
  },
  {
   "cell_type": "code",
   "execution_count": null,
   "id": "5a979201",
   "metadata": {},
   "outputs": [],
   "source": []
  },
  {
   "cell_type": "code",
   "execution_count": null,
   "id": "0a166351",
   "metadata": {},
   "outputs": [],
   "source": []
  },
  {
   "cell_type": "code",
   "execution_count": null,
   "id": "530ec16a",
   "metadata": {},
   "outputs": [],
   "source": []
  },
  {
   "cell_type": "code",
   "execution_count": null,
   "id": "eae6174b",
   "metadata": {},
   "outputs": [],
   "source": []
  },
  {
   "cell_type": "markdown",
   "id": "0c541b02",
   "metadata": {},
   "source": [
    "## Multi-Step DNN model"
   ]
  },
  {
   "cell_type": "code",
   "execution_count": null,
   "id": "37e88f40",
   "metadata": {},
   "outputs": [],
   "source": []
  },
  {
   "cell_type": "code",
   "execution_count": null,
   "id": "169eba0e",
   "metadata": {},
   "outputs": [],
   "source": []
  },
  {
   "cell_type": "code",
   "execution_count": null,
   "id": "adda9154",
   "metadata": {},
   "outputs": [],
   "source": []
  },
  {
   "cell_type": "code",
   "execution_count": null,
   "id": "eb57953b",
   "metadata": {},
   "outputs": [],
   "source": []
  },
  {
   "cell_type": "code",
   "execution_count": null,
   "id": "7926fafb",
   "metadata": {},
   "outputs": [],
   "source": []
  },
  {
   "cell_type": "code",
   "execution_count": null,
   "id": "3e38d48f",
   "metadata": {},
   "outputs": [],
   "source": []
  },
  {
   "cell_type": "markdown",
   "id": "2259fd82",
   "metadata": {},
   "source": [
    "## Multi-Output DNN model"
   ]
  },
  {
   "cell_type": "code",
   "execution_count": null,
   "id": "7954ae04",
   "metadata": {},
   "outputs": [],
   "source": []
  },
  {
   "cell_type": "code",
   "execution_count": null,
   "id": "d1057903",
   "metadata": {},
   "outputs": [],
   "source": []
  },
  {
   "cell_type": "code",
   "execution_count": null,
   "id": "2535c7c4",
   "metadata": {},
   "outputs": [],
   "source": []
  },
  {
   "cell_type": "code",
   "execution_count": null,
   "id": "8a4fddb5",
   "metadata": {},
   "outputs": [],
   "source": []
  },
  {
   "cell_type": "markdown",
   "id": "e75a5600",
   "metadata": {},
   "source": [
    "----"
   ]
  },
  {
   "cell_type": "markdown",
   "id": "77a455a4",
   "metadata": {},
   "source": [
    "# Remembering the past"
   ]
  },
  {
   "cell_type": "markdown",
   "id": "652e2815",
   "metadata": {},
   "source": [
    "## Recurrent Neural Network (RNN)"
   ]
  },
  {
   "cell_type": "markdown",
   "id": "d2888145",
   "metadata": {},
   "source": [
    "![rnn](images/rnn_model.PNG)"
   ]
  },
  {
   "cell_type": "markdown",
   "id": "2ab7ce4c",
   "metadata": {},
   "source": [
    "![rnn_expanded](images/rnn_expanded.PNG)"
   ]
  },
  {
   "cell_type": "markdown",
   "id": "720dbe77",
   "metadata": {},
   "source": [
    "## Long Short-Term Memory"
   ]
  },
  {
   "cell_type": "markdown",
   "id": "7b27017a",
   "metadata": {},
   "source": [
    "![lstm architecture](images/lstm_architecture.PNG)"
   ]
  },
  {
   "cell_type": "markdown",
   "id": "097d97e9",
   "metadata": {},
   "source": [
    "### Forget gate"
   ]
  },
  {
   "cell_type": "markdown",
   "id": "18295ef4",
   "metadata": {},
   "source": [
    "![forget gate](./images/forget_gate.PNG)"
   ]
  },
  {
   "cell_type": "markdown",
   "id": "ee50bce7",
   "metadata": {},
   "source": [
    "### Input gate"
   ]
  },
  {
   "cell_type": "markdown",
   "id": "af4e692c",
   "metadata": {},
   "source": [
    "![input gate](images/input_gate.PNG)"
   ]
  },
  {
   "cell_type": "markdown",
   "id": "d7dc93f3",
   "metadata": {},
   "source": [
    "### Output gate"
   ]
  },
  {
   "cell_type": "markdown",
   "id": "1d0e8059",
   "metadata": {},
   "source": [
    "![output gate](images/output_gate.PNG)"
   ]
  },
  {
   "cell_type": "markdown",
   "id": "ae3c54d3",
   "metadata": {},
   "source": [
    "---"
   ]
  },
  {
   "cell_type": "markdown",
   "id": "ba49b674",
   "metadata": {},
   "source": [
    "## Single-Step LSTM"
   ]
  },
  {
   "cell_type": "code",
   "execution_count": null,
   "id": "525dac0e",
   "metadata": {},
   "outputs": [],
   "source": []
  },
  {
   "cell_type": "code",
   "execution_count": null,
   "id": "6cb95f6d",
   "metadata": {},
   "outputs": [],
   "source": []
  },
  {
   "cell_type": "code",
   "execution_count": null,
   "id": "89c3e892",
   "metadata": {},
   "outputs": [],
   "source": []
  },
  {
   "cell_type": "code",
   "execution_count": null,
   "id": "db3829be",
   "metadata": {},
   "outputs": [],
   "source": []
  },
  {
   "cell_type": "code",
   "execution_count": null,
   "id": "81abed88",
   "metadata": {},
   "outputs": [],
   "source": []
  },
  {
   "cell_type": "markdown",
   "id": "07c5a301",
   "metadata": {},
   "source": [
    "## Multi-Step LSTM"
   ]
  },
  {
   "cell_type": "code",
   "execution_count": null,
   "id": "75224945",
   "metadata": {},
   "outputs": [],
   "source": []
  },
  {
   "cell_type": "code",
   "execution_count": null,
   "id": "844941d9",
   "metadata": {},
   "outputs": [],
   "source": []
  },
  {
   "cell_type": "code",
   "execution_count": null,
   "id": "a0ecaeed",
   "metadata": {},
   "outputs": [],
   "source": []
  },
  {
   "cell_type": "code",
   "execution_count": null,
   "id": "98a1afc1",
   "metadata": {},
   "outputs": [],
   "source": []
  },
  {
   "cell_type": "code",
   "execution_count": null,
   "id": "b6087b86",
   "metadata": {},
   "outputs": [],
   "source": []
  },
  {
   "cell_type": "markdown",
   "id": "cbea5851",
   "metadata": {},
   "source": [
    "## Multi-Output LSTM"
   ]
  },
  {
   "cell_type": "code",
   "execution_count": null,
   "id": "1e3bde0b",
   "metadata": {},
   "outputs": [],
   "source": []
  },
  {
   "cell_type": "code",
   "execution_count": null,
   "id": "6b7f4173",
   "metadata": {},
   "outputs": [],
   "source": []
  },
  {
   "cell_type": "code",
   "execution_count": null,
   "id": "21c27f4c",
   "metadata": {},
   "outputs": [],
   "source": []
  },
  {
   "cell_type": "code",
   "execution_count": null,
   "id": "1685a816",
   "metadata": {},
   "outputs": [],
   "source": []
  },
  {
   "cell_type": "markdown",
   "id": "abe987bf",
   "metadata": {},
   "source": [
    "-----"
   ]
  },
  {
   "cell_type": "markdown",
   "id": "d13b639f",
   "metadata": {},
   "source": [
    "# Ustvarimo lasten model in ga učimo na podatkih "
   ]
  },
  {
   "cell_type": "markdown",
   "id": "a95e4e77",
   "metadata": {},
   "source": [
    "## Problem formulation"
   ]
  },
  {
   "cell_type": "markdown",
   "id": "5b7abc09",
   "metadata": {},
   "source": [
    "# Data preperation"
   ]
  },
  {
   "cell_type": "code",
   "execution_count": null,
   "id": "9878e930",
   "metadata": {},
   "outputs": [],
   "source": []
  },
  {
   "cell_type": "code",
   "execution_count": null,
   "id": "4bd33188",
   "metadata": {},
   "outputs": [],
   "source": []
  },
  {
   "cell_type": "code",
   "execution_count": null,
   "id": "2a21b291",
   "metadata": {},
   "outputs": [],
   "source": []
  },
  {
   "cell_type": "code",
   "execution_count": null,
   "id": "efda9c30",
   "metadata": {},
   "outputs": [],
   "source": []
  },
  {
   "cell_type": "code",
   "execution_count": null,
   "id": "37de8d01",
   "metadata": {},
   "outputs": [],
   "source": []
  },
  {
   "cell_type": "code",
   "execution_count": null,
   "id": "86d857c5",
   "metadata": {},
   "outputs": [],
   "source": []
  },
  {
   "cell_type": "code",
   "execution_count": null,
   "id": "69d7c208",
   "metadata": {},
   "outputs": [],
   "source": []
  },
  {
   "cell_type": "code",
   "execution_count": null,
   "id": "8a565f43",
   "metadata": {},
   "outputs": [],
   "source": []
  },
  {
   "cell_type": "code",
   "execution_count": null,
   "id": "16323a39",
   "metadata": {},
   "outputs": [],
   "source": []
  },
  {
   "cell_type": "markdown",
   "id": "023c4cc5",
   "metadata": {},
   "source": [
    "## Features and Labels"
   ]
  },
  {
   "cell_type": "code",
   "execution_count": null,
   "id": "fed6d997",
   "metadata": {},
   "outputs": [],
   "source": []
  },
  {
   "cell_type": "code",
   "execution_count": null,
   "id": "3f5e07e9",
   "metadata": {},
   "outputs": [],
   "source": []
  },
  {
   "cell_type": "code",
   "execution_count": null,
   "id": "74643699",
   "metadata": {},
   "outputs": [],
   "source": []
  },
  {
   "cell_type": "code",
   "execution_count": null,
   "id": "a302db5d",
   "metadata": {},
   "outputs": [],
   "source": []
  },
  {
   "cell_type": "code",
   "execution_count": null,
   "id": "ec4018ed",
   "metadata": {},
   "outputs": [],
   "source": []
  },
  {
   "cell_type": "code",
   "execution_count": null,
   "id": "125d3b34",
   "metadata": {},
   "outputs": [],
   "source": []
  },
  {
   "cell_type": "markdown",
   "id": "936f047e",
   "metadata": {},
   "source": [
    "# Creating a model"
   ]
  },
  {
   "cell_type": "code",
   "execution_count": null,
   "id": "d977bd2d",
   "metadata": {},
   "outputs": [],
   "source": []
  },
  {
   "cell_type": "code",
   "execution_count": null,
   "id": "8b0a2e07",
   "metadata": {},
   "outputs": [],
   "source": []
  },
  {
   "cell_type": "code",
   "execution_count": null,
   "id": "bb892d12",
   "metadata": {},
   "outputs": [],
   "source": []
  },
  {
   "cell_type": "code",
   "execution_count": null,
   "id": "f95feb90",
   "metadata": {},
   "outputs": [],
   "source": []
  },
  {
   "cell_type": "code",
   "execution_count": null,
   "id": "7f0dc8b6",
   "metadata": {},
   "outputs": [],
   "source": []
  },
  {
   "cell_type": "code",
   "execution_count": null,
   "id": "41f80afb",
   "metadata": {},
   "outputs": [],
   "source": []
  },
  {
   "cell_type": "code",
   "execution_count": null,
   "id": "bc847cd6",
   "metadata": {},
   "outputs": [],
   "source": []
  },
  {
   "cell_type": "code",
   "execution_count": null,
   "id": "4f47a074",
   "metadata": {},
   "outputs": [],
   "source": []
  },
  {
   "cell_type": "markdown",
   "id": "071d65f0",
   "metadata": {},
   "source": [
    "## Pre-trained Embeddings"
   ]
  },
  {
   "cell_type": "markdown",
   "id": "0b9e2e21",
   "metadata": {},
   "source": [
    "GloVe - http://nlp.stanford.edu/data/glove.6B.zip (822MB)\n",
    "* glove.6B.100d.txt je velik 348MB"
   ]
  },
  {
   "cell_type": "markdown",
   "id": "cd8f6d7c",
   "metadata": {},
   "source": [
    "```python\n",
    "import numpy as np\n",
    "\n",
    "# Load in embeddings\n",
    "glove_vectors = './models/glove.6B.100d.txt'\n",
    "glove = np.loadtxt(glove_vectors, dtype='str', comments=None)\n",
    "\n",
    "# Extract the vectors and words\n",
    "vectors = glove[:, 1:].astype('float')\n",
    "words = glove[:, 0]\n",
    "\n",
    "# Create lookup of words to vectors\n",
    "word_lookup = {word: vector for word, vector in zip(words, vectors)}\n",
    "\n",
    "# New matrix to hold word embeddings\n",
    "embedding_matrix = np.zeros((num_words, vectors.shape[1]))\n",
    "\n",
    "for i, word in enumerate(word_idx.keys()):\n",
    "    # Look up the word embedding\n",
    "    vector = word_lookup.get(word, None)\n",
    "\n",
    "    # Record in matrix\n",
    "    if vector is not None:\n",
    "        embedding_matrix[i + 1, :] = vector\n",
    "        \n",
    "# Look a word up\n",
    "word_lookup[\"neural\"][:10]\n",
    "        \n",
    "#...\n",
    "model.add(\n",
    "    Embedding(input_dim=num_words,\n",
    "              input_length = training_length,\n",
    "              output_dim=100,\n",
    "              weights=[embedding_matrix],\n",
    "              trainable=False,\n",
    "              mask_zero=True))\n",
    "\n",
    "# Masking layer for pre-trained embeddings\n",
    "model.add(Masking(mask_value=0.0))\n",
    "#...\n",
    "```"
   ]
  },
  {
   "cell_type": "code",
   "execution_count": null,
   "id": "d291d891",
   "metadata": {},
   "outputs": [],
   "source": [
    "```python\n",
    "import numpy as np\n",
    "\n",
    "# Load in embeddings\n",
    "glove_vectors = './models/glove.6B.100d.txt'\n",
    "glove = np.loadtxt(glove_vectors, dtype='str', comments=None)\n",
    "\n",
    "# Extract the vectors and words\n",
    "vectors = glove[:, 1:].astype('float')\n",
    "words = glove[:, 0]\n",
    "\n",
    "# Create lookup of words to vectors\n",
    "word_lookup = {word: vector for word, vector in zip(words, vectors)}\n",
    "\n",
    "# New matrix to hold word embeddings\n",
    "embedding_matrix = np.zeros((num_words, vectors.shape[1]))\n",
    "\n",
    "for i, word in enumerate(word_idx.keys()):\n",
    "    # Look up the word embedding\n",
    "    vector = word_lookup.get(word, None)\n",
    "\n",
    "    # Record in matrix\n",
    "    if vector is not None:\n",
    "        embedding_matrix[i + 1, :] = vector\n",
    "        \n",
    "# Look a word up\n",
    "word_lookup[\"neural\"][:10]\n",
    "        \n",
    "#...\n",
    "model.add(\n",
    "    Embedding(input_dim=num_words,\n",
    "              input_length = training_length,\n",
    "              output_dim=100,\n",
    "              weights=[embedding_matrix],\n",
    "              trainable=False,\n",
    "              mask_zero=True))\n",
    "\n",
    "# Masking layer for pre-trained embeddings\n",
    "model.add(Masking(mask_value=0.0))\n",
    "#...\n",
    "```"
   ]
  },
  {
   "cell_type": "code",
   "execution_count": null,
   "id": "ed4f7916",
   "metadata": {},
   "outputs": [],
   "source": []
  },
  {
   "cell_type": "code",
   "execution_count": null,
   "id": "aeca5bda",
   "metadata": {},
   "outputs": [],
   "source": []
  },
  {
   "cell_type": "code",
   "execution_count": null,
   "id": "b70682b0",
   "metadata": {},
   "outputs": [],
   "source": []
  },
  {
   "cell_type": "markdown",
   "id": "58e54e17",
   "metadata": {},
   "source": [
    "# ChatGPT"
   ]
  },
  {
   "cell_type": "markdown",
   "id": "03b8c179",
   "metadata": {},
   "source": [
    "Cenik je trenutno:\n",
    "* GPT-3.5 - $0.002 / 1K tokens\n",
    "\n",
    "https://openai.com/pricing"
   ]
  },
  {
   "cell_type": "code",
   "execution_count": null,
   "id": "acb831d4",
   "metadata": {},
   "outputs": [],
   "source": []
  },
  {
   "cell_type": "code",
   "execution_count": null,
   "id": "fd309b2a",
   "metadata": {},
   "outputs": [],
   "source": []
  },
  {
   "cell_type": "code",
   "execution_count": null,
   "id": "c502a130",
   "metadata": {},
   "outputs": [],
   "source": []
  },
  {
   "cell_type": "code",
   "execution_count": null,
   "id": "04e84a96",
   "metadata": {},
   "outputs": [],
   "source": []
  },
  {
   "cell_type": "code",
   "execution_count": null,
   "id": "8564fc26",
   "metadata": {},
   "outputs": [],
   "source": []
  },
  {
   "cell_type": "code",
   "execution_count": null,
   "id": "aef59bb5",
   "metadata": {},
   "outputs": [],
   "source": []
  },
  {
   "cell_type": "code",
   "execution_count": null,
   "id": "009e58bf",
   "metadata": {},
   "outputs": [],
   "source": []
  },
  {
   "cell_type": "code",
   "execution_count": null,
   "id": "abdf227f",
   "metadata": {},
   "outputs": [],
   "source": []
  },
  {
   "cell_type": "code",
   "execution_count": null,
   "id": "c057cec4",
   "metadata": {},
   "outputs": [],
   "source": []
  },
  {
   "cell_type": "code",
   "execution_count": null,
   "id": "820412a4",
   "metadata": {},
   "outputs": [],
   "source": []
  },
  {
   "cell_type": "code",
   "execution_count": null,
   "id": "64296926",
   "metadata": {},
   "outputs": [],
   "source": []
  },
  {
   "cell_type": "code",
   "execution_count": null,
   "id": "90aba5f8",
   "metadata": {},
   "outputs": [],
   "source": []
  }
 ],
 "metadata": {
  "kernelspec": {
   "display_name": "Python 3 (ipykernel)",
   "language": "python",
   "name": "python3"
  },
  "language_info": {
   "codemirror_mode": {
    "name": "ipython",
    "version": 3
   },
   "file_extension": ".py",
   "mimetype": "text/x-python",
   "name": "python",
   "nbconvert_exporter": "python",
   "pygments_lexer": "ipython3",
   "version": "3.10.6"
  }
 },
 "nbformat": 4,
 "nbformat_minor": 5
}
